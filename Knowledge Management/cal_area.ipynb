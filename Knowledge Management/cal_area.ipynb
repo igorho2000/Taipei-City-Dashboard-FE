{
 "cells": [
  {
   "cell_type": "code",
   "execution_count": 2,
   "metadata": {},
   "outputs": [
    {
     "name": "stdout",
     "output_type": "stream",
     "text": [
      "Requirement already satisfied: geopandas in /Users/yohowang/opt/anaconda3/lib/python3.9/site-packages (0.14.1)\n",
      "Requirement already satisfied: pyproj>=3.3.0 in /Users/yohowang/opt/anaconda3/lib/python3.9/site-packages (from geopandas) (3.6.1)\n",
      "Requirement already satisfied: fiona>=1.8.21 in /Users/yohowang/opt/anaconda3/lib/python3.9/site-packages (from geopandas) (1.9.5)\n",
      "Requirement already satisfied: shapely>=1.8.0 in /Users/yohowang/opt/anaconda3/lib/python3.9/site-packages (from geopandas) (2.0.2)\n",
      "Requirement already satisfied: packaging in /Users/yohowang/opt/anaconda3/lib/python3.9/site-packages (from geopandas) (21.3)\n",
      "Requirement already satisfied: pandas>=1.4.0 in /Users/yohowang/opt/anaconda3/lib/python3.9/site-packages (from geopandas) (1.4.4)\n",
      "Requirement already satisfied: setuptools in /Users/yohowang/opt/anaconda3/lib/python3.9/site-packages (from fiona>=1.8.21->geopandas) (68.2.2)\n",
      "Requirement already satisfied: cligj>=0.5 in /Users/yohowang/opt/anaconda3/lib/python3.9/site-packages (from fiona>=1.8.21->geopandas) (0.7.2)\n",
      "Requirement already satisfied: click-plugins>=1.0 in /Users/yohowang/opt/anaconda3/lib/python3.9/site-packages (from fiona>=1.8.21->geopandas) (1.1.1)\n",
      "Requirement already satisfied: attrs>=19.2.0 in /Users/yohowang/opt/anaconda3/lib/python3.9/site-packages (from fiona>=1.8.21->geopandas) (21.4.0)\n",
      "Requirement already satisfied: click~=8.0 in /Users/yohowang/opt/anaconda3/lib/python3.9/site-packages (from fiona>=1.8.21->geopandas) (8.0.4)\n",
      "Requirement already satisfied: importlib-metadata in /Users/yohowang/opt/anaconda3/lib/python3.9/site-packages (from fiona>=1.8.21->geopandas) (4.11.3)\n",
      "Requirement already satisfied: six in /Users/yohowang/opt/anaconda3/lib/python3.9/site-packages (from fiona>=1.8.21->geopandas) (1.16.0)\n",
      "Requirement already satisfied: certifi in /Users/yohowang/opt/anaconda3/lib/python3.9/site-packages (from fiona>=1.8.21->geopandas) (2022.9.24)\n",
      "Requirement already satisfied: python-dateutil>=2.8.1 in /Users/yohowang/opt/anaconda3/lib/python3.9/site-packages (from pandas>=1.4.0->geopandas) (2.8.2)\n",
      "Requirement already satisfied: pytz>=2020.1 in /Users/yohowang/opt/anaconda3/lib/python3.9/site-packages (from pandas>=1.4.0->geopandas) (2022.1)\n",
      "Requirement already satisfied: numpy>=1.18.5 in /Users/yohowang/opt/anaconda3/lib/python3.9/site-packages (from pandas>=1.4.0->geopandas) (1.21.5)\n",
      "Requirement already satisfied: pyparsing!=3.0.5,>=2.0.2 in /Users/yohowang/opt/anaconda3/lib/python3.9/site-packages (from packaging->geopandas) (3.0.9)\n",
      "Requirement already satisfied: zipp>=0.5 in /Users/yohowang/opt/anaconda3/lib/python3.9/site-packages (from importlib-metadata->fiona>=1.8.21->geopandas) (3.8.0)\n"
     ]
    }
   ],
   "source": [
    "!pip install geopandas\n",
    "\n",
    "import geopandas as gpd"
   ]
  },
  {
   "cell_type": "code",
   "execution_count": 31,
   "metadata": {},
   "outputs": [
    {
     "data": {
      "text/plain": [
       "194784.11"
      ]
     },
     "execution_count": 31,
     "metadata": {},
     "output_type": "execute_result"
    }
   ],
   "source": [
    "from pathlib import Path\n",
    "\n",
    "def cal_area(geojson):\n",
    "    mapData_path = Path(\"/Users/yohowang/Documents/Taipei-City-Dashboard-FE/public/mapData\")\n",
    "\n",
    "    geojson_file_path = mapData_path / geojson\n",
    "\n",
    "    gdf = gpd.read_file(geojson_file_path)\n",
    "    try:\n",
    "        area = sum([float(num) for num in gdf['面積']])\n",
    "    except: \n",
    "        area = sum(gdf.geometry.area)\n",
    "\n",
    "    print(area)\n",
    "\n",
    "    return area\n",
    "\n",
    "mapData_path = Path(\"/Users/yohowang/Documents/Taipei-City-Dashboard-FE/public/mapData\")\n",
    "geojson_file_path = mapData_path / \"pav-pac.geojson\"\n",
    "sum([float(num) for num in gpd.read_file(geojson_file_path)['面積']])"
   ]
  },
  {
   "cell_type": "code",
   "execution_count": 32,
   "metadata": {},
   "outputs": [
    {
     "name": "stdout",
     "output_type": "stream",
     "text": [
      "602244.265\n",
      "80878.891\n",
      "95839.83000000002\n",
      "235929.13118488636\n",
      "194784.11\n"
     ]
    }
   ],
   "source": [
    "# type: MultiPolygon\n",
    "import json\n",
    "\n",
    "with open('./500.json', 'w') as writer:\n",
    "    writer.write(json.dumps({\n",
    "        \"data\": [\n",
    "            {\n",
    "                \"name\": \"透水鋪面面積\",\n",
    "                \"data\": [\n",
    "                    { \"x\": \"學校\", \"y\": cal_area(\"pav-school.geojson\") },\n",
    "                    { \"x\": \"停車場\", \"y\": cal_area(\"pav-parking-lot.geojson\") },\n",
    "                    { \"x\": \"公園\", \"y\": cal_area(\"pav-park.geojson\") },\n",
    "                    { \"x\": \"人行道\", \"y\": cal_area(\"pav-pavement.geojson\") },\n",
    "                    { \"x\": \"PAC鋪面\", \"y\": cal_area(\"pav-pac.geojson\") }\n",
    "                ]\n",
    "            }\n",
    "        ]\n",
    "    }, ensure_ascii=False))\n"
   ]
  }
 ],
 "metadata": {
  "kernelspec": {
   "display_name": "base",
   "language": "python",
   "name": "python3"
  },
  "language_info": {
   "codemirror_mode": {
    "name": "ipython",
    "version": 3
   },
   "file_extension": ".py",
   "mimetype": "text/x-python",
   "name": "python",
   "nbconvert_exporter": "python",
   "pygments_lexer": "ipython3",
   "version": "3.9.13"
  }
 },
 "nbformat": 4,
 "nbformat_minor": 2
}
